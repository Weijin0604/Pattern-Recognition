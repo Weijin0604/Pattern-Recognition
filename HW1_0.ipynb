{
 "cells": [
  {
   "cell_type": "code",
   "execution_count": 5,
   "source": [
    "from numpy import *\r\n",
    "import numpy as np\r\n",
    "a = np.array([[1, 2, -1],[-2, 1, 1],[3, -1, 2]])\r\n",
    "b = np.array([[1],[3],[7]])\r\n",
    "x = np.linalg.solve(a, b)\r\n",
    "print (x)\r\n",
    "print (np.allclose(np.dot(a, x), b))"
   ],
   "outputs": [
    {
     "output_type": "stream",
     "name": "stdout",
     "text": [
      "[[0.83333333]\n",
      " [1.61111111]\n",
      " [3.05555556]]\n",
      "True\n"
     ]
    }
   ],
   "metadata": {}
  },
  {
   "cell_type": "code",
   "execution_count": null,
   "source": [
    "from numpy import *\r\n",
    "import numpy as np\r\n",
    "a = np.array([[1, 2, -1, 2, 1],[-2, 1, 1, 1, 3],[3, -1, 2, -1, -2],[1, -1, 2, -1, 2],[-2, 1, -3, 2, -2]])\r\n",
    "b = np.array([[1],[3],[7]])\r\n",
    "x = np.linalg.solve(a, b)\r\n",
    "print (x)\r\n",
    "print (np.allclose(np.dot(a, x), b))"
   ],
   "outputs": [],
   "metadata": {}
  }
 ],
 "metadata": {
  "orig_nbformat": 4,
  "language_info": {
   "name": "python",
   "version": "3.9.7",
   "mimetype": "text/x-python",
   "codemirror_mode": {
    "name": "ipython",
    "version": 3
   },
   "pygments_lexer": "ipython3",
   "nbconvert_exporter": "python",
   "file_extension": ".py"
  },
  "kernelspec": {
   "name": "python3",
   "display_name": "Python 3.9.7 64-bit"
  },
  "interpreter": {
   "hash": "ac59ebe37160ed0dfa835113d9b8498d9f09ceb179beaac4002f036b9467c963"
  }
 },
 "nbformat": 4,
 "nbformat_minor": 2
}